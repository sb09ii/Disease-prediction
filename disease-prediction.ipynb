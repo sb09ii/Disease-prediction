{
  "nbformat": 4,
  "nbformat_minor": 0,
  "metadata": {
    "colab": {
      "provenance": [],
      "authorship_tag": "ABX9TyOqb2kPbcyJOD71b6DWOI9k",
      "include_colab_link": true
    },
    "kernelspec": {
      "name": "python3",
      "display_name": "Python 3"
    },
    "language_info": {
      "name": "python"
    }
  },
  "cells": [
    {
      "cell_type": "markdown",
      "metadata": {
        "id": "view-in-github",
        "colab_type": "text"
      },
      "source": [
        "<a href=\"https://colab.research.google.com/github/sb09ii/Disease-prediction/blob/main/disease-prediction.ipynb\" target=\"_parent\"><img src=\"https://colab.research.google.com/assets/colab-badge.svg\" alt=\"Open In Colab\"/></a>"
      ]
    },
    {
      "cell_type": "code",
      "execution_count": null,
      "metadata": {
        "id": "zIzI_6Zg8ysQ"
      },
      "outputs": [],
      "source": [
        "import os\n",
        "print(f\"Model saved to {filename}\")\n",
        "\n",
        "\n",
        "\n",
        "\n",
        "def load_model(filename=MODEL_OUT):\n",
        "return joblib.load(filename)\n",
        "\n",
        "\n",
        "\n",
        "\n",
        "def predict_example(model, sample_dict=None):\n",
        "# sample_dict should contain the same feature names as training X\n",
        "if sample_dict is None:\n",
        "# default example (this is arbitrary)\n",
        "sample_dict = {\n",
        "'Pregnancies': 2,\n",
        "'Glucose': 120,\n",
        "'BloodPressure': 70,\n",
        "'SkinThickness': 20,\n",
        "'Insulin': 79,\n",
        "'BMI': 25.0,\n",
        "'DiabetesPedigreeFunction': 0.5,\n",
        "'Age': 33\n",
        "}\n",
        "X_sample = pd.DataFrame([sample_dict])\n",
        "proba = None\n",
        "try:\n",
        "proba = model.predict_proba(X_sample)[:,1][0]\n",
        "except Exception:\n",
        "pred = model.predict(X_sample)[0]\n",
        "return pred\n",
        "pred = 1 if proba >= 0.5 else 0\n",
        "print(f\"Predicted class: {pred} (probability of diabetes = {proba:.3f})\")\n",
        "return pred\n",
        "\n",
        "\n",
        "\n",
        "\n",
        "def main():\n",
        "# 1. get data\n",
        "try:\n",
        "csv_path = download_dataset()\n",
        "except Exception:\n",
        "# If download failed, try local\n",
        "if os.path.exists(LOCAL_CSV):\n",
        "csv_path = LOCAL_CSV\n",
        "else:\n",
        "print(\"Dataset not available. Exiting.\")\n",
        "sys.exit(1)\n",
        "\n",
        "\n",
        "df = load_data(csv_path)\n",
        "basic_eda(df)\n",
        "\n",
        "\n",
        "# 2. preprocess\n",
        "X, y = preprocess(df, impute_zeros=True)\n",
        "\n",
        "\n",
        "# 3. train & evaluate\n",
        "best_model, results = build_and_evaluate(X, y, do_hyperparam=True)\n",
        "\n",
        "\n",
        "# 4. save\n",
        "if best_model is not None:\n",
        "save_model(best_model)\n",
        "\n",
        "\n",
        "# 5. example predict\n",
        "print('\\n-- Example prediction with saved model --')\n",
        "loaded = load_model(MODEL_OUT)\n",
        "predict_example(loaded)\n",
        "\n",
        "\n",
        "\n",
        "\n",
        "if __name__ == '__main__':\n",
        "main()"
      ]
    }
  ]
}